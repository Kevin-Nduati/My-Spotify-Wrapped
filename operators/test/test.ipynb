{
 "cells": [
  {
   "cell_type": "code",
   "execution_count": 8,
   "metadata": {},
   "outputs": [],
   "source": [
    "import requests\n",
    "from dotenv import load_dotenv\n",
    "load_dotenv()\n",
    "import os\n",
    "import json"
   ]
  },
  {
   "cell_type": "code",
   "execution_count": null,
   "metadata": {},
   "outputs": [],
   "source": [
    "import os\n",
    "import requests\n",
    "\n",
    "def recently_played_songs(start_time):\n",
    "    url = f\"https://api.spotify.com/v1/me/player/recently-played?limit=2&after={start_time}\"\n",
    "    url2 = \"https://api.spotify.com/v1/artists?ids=\"\n",
    "    params = {}\n",
    "    headers = {\n",
    "        \"Accept\": \"application/json\",\n",
    "        \"Content-Type\": \"application/json\",\n",
    "        \"Authorization\": f\"Bearer {os.getenv('access_token')}\"\n",
    "    }\n",
    "    data = []\n",
    "    response = requests.get(url, params=params, headers=headers)\n",
    "    response_data = response.json()\n",
    "    # have to make sure the output is not blank\n",
    "    # hit second url for artist information\n",
    "    if len(response_data) != 0:\n",
    "        tracks = response_data[\"items\"]\n",
    "        for track in tracks:\n",
    "            track_data = {\n",
    "                \"track_id\": track[\"track\"][\"id\"],\n",
    "                \"track_name\": track[\"track\"][\"name\"],\n",
    "                \"album_name\": track[\"track\"][\"album\"][\"name\"],\n",
    "                \"album_id\": track[\"track\"][\"album\"][\"id\"],\n",
    "                \"release_date\": track[\"track\"][\"album\"][\"release_date\"],\n",
    "                \"artist_id\": track[\"track\"][\"artists\"][0][\"id\"],\n",
    "                \"artist_name\": track[\"track\"][\"artists\"][0][\"name\"],\n",
    "                \"song_duration_ms\": track[\"track\"][\"duration_ms\"],\n",
    "                \"explicit\": track[\"track\"][\"explicit\"],\n",
    "                \"popularity\": track[\"track\"][\"popularity\"],\n",
    "                \"played_at\": track[\"played_at\"]\n",
    "            }\n",
    "            artist_url = url2 + track_data[\"artist_id\"]\n",
    "            response = requests.get(artist_url, headers=headers)\n",
    "            response_data = response.json()\n",
    "            track_data[\"artist_genres\"] = response_data[\"artists\"][0][\"genres\"]\n",
    "            \n",
    "\n",
    "            data.append(track_data)\n",
    "\n",
    "        print(f\"The operation has been successfully run!!!\")\n",
    "        return data\n",
    "\n",
    "\n",
    "    else:\n",
    "        print(f\"{response.status_code}: Error Retrieving Spotify Data\")\n",
    "\n",
    "recently_played_songs(start_time=\"1644872400000\")\n"
   ]
  },
  {
   "cell_type": "code",
   "execution_count": 4,
   "metadata": {},
   "outputs": [
    {
     "name": "stdout",
     "output_type": "stream",
     "text": [
      "The operation has been successfully run!!!\n"
     ]
    },
    {
     "data": {
      "text/plain": [
       "[{'track_id': '6AGON2BGdPmPMJGiiNuuwl',\n",
       "  'track_name': 'Immortal',\n",
       "  'album_name': '4 Your Eyez Only',\n",
       "  'album_id': '3CCnGldVQ90c26aFATC1PW',\n",
       "  'release_date': '2016-12-09',\n",
       "  'artist_id': '6l3HvQ5sa6mXTsMTB19rO5',\n",
       "  'artist_name': 'J. Cole',\n",
       "  'song_duration_ms': 201666,\n",
       "  'explicit': True,\n",
       "  'popularity': 64,\n",
       "  'played_at': '2023-03-18T11:35:38.582Z',\n",
       "  'artist_genres': ['conscious hip hop',\n",
       "   'hip hop',\n",
       "   'north carolina hip hop',\n",
       "   'rap']},\n",
       " {'track_id': '2ZL7WZcjuYKi1KUDtp4kCC',\n",
       "  'track_name': 'Spin Bout U',\n",
       "  'album_name': 'Her Loss',\n",
       "  'album_id': '5MS3MvWHJ3lOZPLiMxzOU6',\n",
       "  'release_date': '2022-11-04',\n",
       "  'artist_id': '3TVXtAsR1Inumwj472S9r4',\n",
       "  'artist_name': 'Drake',\n",
       "  'song_duration_ms': 214588,\n",
       "  'explicit': True,\n",
       "  'popularity': 81,\n",
       "  'played_at': '2023-03-18T11:32:16.488Z',\n",
       "  'artist_genres': ['canadian hip hop',\n",
       "   'canadian pop',\n",
       "   'hip hop',\n",
       "   'rap',\n",
       "   'toronto rap']}]"
      ]
     },
     "execution_count": 4,
     "metadata": {},
     "output_type": "execute_result"
    }
   ],
   "source": [
    "import os\n",
    "import requests\n",
    "\n",
    "def recently_played_songs(start_time):\n",
    "    url = f\"https://api.spotify.com/v1/me/player/recently-played?limit=2&after={start_time}\"\n",
    "    url2 = \"https://api.spotify.com/v1/artists?ids=\"\n",
    "    params = {}\n",
    "    headers = {\n",
    "        \"Accept\": \"application/json\",\n",
    "        \"Content-Type\": \"application/json\",\n",
    "        \"Authorization\": f\"Bearer {os.getenv('access_token')}\"\n",
    "    }\n",
    "    data = []\n",
    "    response = requests.get(url, params=params, headers=headers)\n",
    "    response_data = response.json()\n",
    "    # have to make sure the output is not blank\n",
    "    # hit second url for artist information\n",
    "    if len(response_data) != 0:\n",
    "        tracks = response_data[\"items\"]\n",
    "        for track in tracks:\n",
    "            track_data = {\n",
    "                \"track_id\": track[\"track\"][\"id\"],\n",
    "                \"track_name\": track[\"track\"][\"name\"],\n",
    "                \"album_name\": track[\"track\"][\"album\"][\"name\"],\n",
    "                \"album_id\": track[\"track\"][\"album\"][\"id\"],\n",
    "                \"release_date\": track[\"track\"][\"album\"][\"release_date\"],\n",
    "                \"artist_id\": track[\"track\"][\"artists\"][0][\"id\"],\n",
    "                \"artist_name\": track[\"track\"][\"artists\"][0][\"name\"],\n",
    "                \"song_duration_ms\": track[\"track\"][\"duration_ms\"],\n",
    "                \"explicit\": track[\"track\"][\"explicit\"],\n",
    "                \"popularity\": track[\"track\"][\"popularity\"],\n",
    "                \"played_at\": track[\"played_at\"]\n",
    "            }\n",
    "            artist_url = url2 + track_data[\"artist_id\"]\n",
    "            response = requests.get(artist_url, headers=headers)\n",
    "            response_data = response.json()\n",
    "            track_data[\"artist_genres\"] = response_data[\"artists\"][0][\"genres\"]\n",
    "            \n",
    "\n",
    "            data.append(track_data)\n",
    "\n",
    "        print(f\"The operation has been successfully run!!!\")\n",
    "        return data\n",
    "\n",
    "\n",
    "    else:\n",
    "        print(f\"{response.status_code}: Error Retrieving Spotify Data\")\n",
    "\n",
    "recently_played_songs(start_time=\"1644872400000\")\n"
   ]
  },
  {
   "cell_type": "code",
   "execution_count": 6,
   "metadata": {},
   "outputs": [
    {
     "name": "stdout",
     "output_type": "stream",
     "text": [
      "1679032541\n"
     ]
    }
   ],
   "source": [
    "import time\n",
    "\n",
    "date_string = '2023-03-17 08:55:41.077'\n",
    "timestamp = int(time.mktime(time.strptime(date_string, '%Y-%m-%d %H:%M:%S.%f')))\n",
    "print(timestamp)\n"
   ]
  },
  {
   "cell_type": "code",
   "execution_count": 14,
   "metadata": {},
   "outputs": [
    {
     "name": "stdout",
     "output_type": "stream",
     "text": [
      "1678900491\n"
     ]
    }
   ],
   "source": [
    "import datetime\n",
    "\n",
    "current_datetime = datetime.datetime.now()\n",
    "unix_timestamp = int(current_datetime.timestamp())\n",
    "print(unix_timestamp)\n"
   ]
  },
  {
   "cell_type": "code",
   "execution_count": 4,
   "metadata": {},
   "outputs": [
    {
     "name": "stdout",
     "output_type": "stream",
     "text": [
      "1662069600\n"
     ]
    }
   ],
   "source": [
    "from datetime import datetime,timedelta\n",
    "import time\n",
    "date_string = \"2022-09-02T00:00:00+00:00\"\n",
    "date_obj = datetime.fromisoformat(date_string)\n",
    "\n",
    "# Add 1 hour to the datetime object\n",
    "new_date_obj = date_obj + timedelta(hours=1)\n",
    "\n",
    "# Convert the datetime object to Unix timestamp\n",
    "unix_timestamp = int(time.mktime(new_date_obj.timetuple()))\n",
    "\n",
    "print(unix_timestamp)"
   ]
  },
  {
   "cell_type": "code",
   "execution_count": 9,
   "metadata": {},
   "outputs": [
    {
     "ename": "JSONDecodeError",
     "evalue": "Extra data: line 1 column 35146 (char 35145)",
     "output_type": "error",
     "traceback": [
      "\u001b[0;31m---------------------------------------------------------------------------\u001b[0m",
      "\u001b[0;31mJSONDecodeError\u001b[0m                           Traceback (most recent call last)",
      "Cell \u001b[0;32mIn[9], line 5\u001b[0m\n\u001b[1;32m      3\u001b[0m \u001b[39m# Open the JSON file and load its contents into a Python dictionary\u001b[39;00m\n\u001b[1;32m      4\u001b[0m \u001b[39mwith\u001b[39;00m \u001b[39mopen\u001b[39m(\u001b[39m'\u001b[39m\u001b[39mkenyan_songs.json\u001b[39m\u001b[39m'\u001b[39m, \u001b[39m'\u001b[39m\u001b[39mr\u001b[39m\u001b[39m'\u001b[39m) \u001b[39mas\u001b[39;00m file:\n\u001b[0;32m----> 5\u001b[0m     data \u001b[39m=\u001b[39m json\u001b[39m.\u001b[39;49mload(file)\n\u001b[1;32m      7\u001b[0m \u001b[39m# Find the number of items in the dictionary\u001b[39;00m\n\u001b[1;32m      8\u001b[0m num_items \u001b[39m=\u001b[39m \u001b[39mlen\u001b[39m(data)\n",
      "File \u001b[0;32m/usr/lib/python3.10/json/__init__.py:293\u001b[0m, in \u001b[0;36mload\u001b[0;34m(fp, cls, object_hook, parse_float, parse_int, parse_constant, object_pairs_hook, **kw)\u001b[0m\n\u001b[1;32m    274\u001b[0m \u001b[39mdef\u001b[39;00m \u001b[39mload\u001b[39m(fp, \u001b[39m*\u001b[39m, \u001b[39mcls\u001b[39m\u001b[39m=\u001b[39m\u001b[39mNone\u001b[39;00m, object_hook\u001b[39m=\u001b[39m\u001b[39mNone\u001b[39;00m, parse_float\u001b[39m=\u001b[39m\u001b[39mNone\u001b[39;00m,\n\u001b[1;32m    275\u001b[0m         parse_int\u001b[39m=\u001b[39m\u001b[39mNone\u001b[39;00m, parse_constant\u001b[39m=\u001b[39m\u001b[39mNone\u001b[39;00m, object_pairs_hook\u001b[39m=\u001b[39m\u001b[39mNone\u001b[39;00m, \u001b[39m*\u001b[39m\u001b[39m*\u001b[39mkw):\n\u001b[1;32m    276\u001b[0m \u001b[39m    \u001b[39m\u001b[39m\"\"\"Deserialize ``fp`` (a ``.read()``-supporting file-like object containing\u001b[39;00m\n\u001b[1;32m    277\u001b[0m \u001b[39m    a JSON document) to a Python object.\u001b[39;00m\n\u001b[1;32m    278\u001b[0m \n\u001b[0;32m   (...)\u001b[0m\n\u001b[1;32m    291\u001b[0m \u001b[39m    kwarg; otherwise ``JSONDecoder`` is used.\u001b[39;00m\n\u001b[1;32m    292\u001b[0m \u001b[39m    \"\"\"\u001b[39;00m\n\u001b[0;32m--> 293\u001b[0m     \u001b[39mreturn\u001b[39;00m loads(fp\u001b[39m.\u001b[39;49mread(),\n\u001b[1;32m    294\u001b[0m         \u001b[39mcls\u001b[39;49m\u001b[39m=\u001b[39;49m\u001b[39mcls\u001b[39;49m, object_hook\u001b[39m=\u001b[39;49mobject_hook,\n\u001b[1;32m    295\u001b[0m         parse_float\u001b[39m=\u001b[39;49mparse_float, parse_int\u001b[39m=\u001b[39;49mparse_int,\n\u001b[1;32m    296\u001b[0m         parse_constant\u001b[39m=\u001b[39;49mparse_constant, object_pairs_hook\u001b[39m=\u001b[39;49mobject_pairs_hook, \u001b[39m*\u001b[39;49m\u001b[39m*\u001b[39;49mkw)\n",
      "File \u001b[0;32m/usr/lib/python3.10/json/__init__.py:346\u001b[0m, in \u001b[0;36mloads\u001b[0;34m(s, cls, object_hook, parse_float, parse_int, parse_constant, object_pairs_hook, **kw)\u001b[0m\n\u001b[1;32m    341\u001b[0m     s \u001b[39m=\u001b[39m s\u001b[39m.\u001b[39mdecode(detect_encoding(s), \u001b[39m'\u001b[39m\u001b[39msurrogatepass\u001b[39m\u001b[39m'\u001b[39m)\n\u001b[1;32m    343\u001b[0m \u001b[39mif\u001b[39;00m (\u001b[39mcls\u001b[39m \u001b[39mis\u001b[39;00m \u001b[39mNone\u001b[39;00m \u001b[39mand\u001b[39;00m object_hook \u001b[39mis\u001b[39;00m \u001b[39mNone\u001b[39;00m \u001b[39mand\u001b[39;00m\n\u001b[1;32m    344\u001b[0m         parse_int \u001b[39mis\u001b[39;00m \u001b[39mNone\u001b[39;00m \u001b[39mand\u001b[39;00m parse_float \u001b[39mis\u001b[39;00m \u001b[39mNone\u001b[39;00m \u001b[39mand\u001b[39;00m\n\u001b[1;32m    345\u001b[0m         parse_constant \u001b[39mis\u001b[39;00m \u001b[39mNone\u001b[39;00m \u001b[39mand\u001b[39;00m object_pairs_hook \u001b[39mis\u001b[39;00m \u001b[39mNone\u001b[39;00m \u001b[39mand\u001b[39;00m \u001b[39mnot\u001b[39;00m kw):\n\u001b[0;32m--> 346\u001b[0m     \u001b[39mreturn\u001b[39;00m _default_decoder\u001b[39m.\u001b[39;49mdecode(s)\n\u001b[1;32m    347\u001b[0m \u001b[39mif\u001b[39;00m \u001b[39mcls\u001b[39m \u001b[39mis\u001b[39;00m \u001b[39mNone\u001b[39;00m:\n\u001b[1;32m    348\u001b[0m     \u001b[39mcls\u001b[39m \u001b[39m=\u001b[39m JSONDecoder\n",
      "File \u001b[0;32m/usr/lib/python3.10/json/decoder.py:340\u001b[0m, in \u001b[0;36mJSONDecoder.decode\u001b[0;34m(self, s, _w)\u001b[0m\n\u001b[1;32m    338\u001b[0m end \u001b[39m=\u001b[39m _w(s, end)\u001b[39m.\u001b[39mend()\n\u001b[1;32m    339\u001b[0m \u001b[39mif\u001b[39;00m end \u001b[39m!=\u001b[39m \u001b[39mlen\u001b[39m(s):\n\u001b[0;32m--> 340\u001b[0m     \u001b[39mraise\u001b[39;00m JSONDecodeError(\u001b[39m\"\u001b[39m\u001b[39mExtra data\u001b[39m\u001b[39m\"\u001b[39m, s, end)\n\u001b[1;32m    341\u001b[0m \u001b[39mreturn\u001b[39;00m obj\n",
      "\u001b[0;31mJSONDecodeError\u001b[0m: Extra data: line 1 column 35146 (char 35145)"
     ]
    }
   ],
   "source": [
    "import json\n",
    "\n",
    "# Open the JSON file and load its contents into a Python dictionary\n",
    "with open('kenyan_songs.json', 'r') as file:\n",
    "    data = json.load(file)\n",
    "\n",
    "# Find the number of items in the dictionary\n",
    "num_items = len(data)\n",
    "\n",
    "print(\"Number of items:\", num_items)\n"
   ]
  },
  {
   "cell_type": "code",
   "execution_count": 7,
   "metadata": {},
   "outputs": [
    {
     "ename": "TypeError",
     "evalue": "unhashable type: 'list'",
     "output_type": "error",
     "traceback": [
      "\u001b[0;31m---------------------------------------------------------------------------\u001b[0m",
      "\u001b[0;31mTypeError\u001b[0m                                 Traceback (most recent call last)",
      "Cell \u001b[0;32mIn[7], line 1\u001b[0m\n\u001b[0;32m----> 1\u001b[0m jsn \u001b[39m=\u001b[39m {\n\u001b[1;32m      2\u001b[0m     []\n\u001b[1;32m      3\u001b[0m }\n\u001b[1;32m      4\u001b[0m \u001b[39mlen\u001b[39m(jsn)\n",
      "\u001b[0;31mTypeError\u001b[0m: unhashable type: 'list'"
     ]
    }
   ],
   "source": [
    "jsn = {\n",
    "    []\n",
    "}\n",
    "len(jsn)"
   ]
  },
  {
   "cell_type": "code",
   "execution_count": 13,
   "metadata": {},
   "outputs": [
    {
     "name": "stdout",
     "output_type": "stream",
     "text": [
      "End Date: 1662069600\n",
      "No data was retrieved\n"
     ]
    }
   ],
   "source": [
    "# from airflow.providers.http.operators.http import SimpleHttpOperator\n",
    "# from airflow.providers.postgres.hooks.postgres import PostgresHook\n",
    "# from airflow.models import Variable, XCom\n",
    "# from datetime import datetime, timedelta\n",
    "# import time\n",
    "# import requests\n",
    "# import json\n",
    "# import os\n",
    "# from refresh import RefreshToken\n",
    "# from dotenv import load_dotenv\n",
    "# load_dotenv()\n",
    "\n",
    "\n",
    "\n",
    "def recently_played_songs(start_time):\n",
    "    start_time = datetime.fromisoformat(str(start_time))\n",
    "    date_obj = start_time + timedelta(hours=1)\n",
    "\n",
    "    # convert the datetime to unix timestamp\n",
    "    end_date = int(time.mktime(date_obj.timetuple()))\n",
    "    print(f\"End Date: {end_date}\")\n",
    "    url = f\"https://api.spotify.com/v1/me/player/recently-played?limit=50&before={end_date}\"\n",
    "    url2 = \"https://api.spotify.com/v1/artists?ids=\"\n",
    "    params = {}\n",
    "    headers = {\n",
    "        \"Accept\": \"application/json\",\n",
    "        \"Content-Type\": \"application/json\",\n",
    "        \"Authorization\": f\"Bearer {os.getenv('access_token')}\"\n",
    "    }\n",
    "    data = []\n",
    "    response = requests.get(url, params=params, headers=headers)\n",
    "    response_data = response.json()\n",
    "    \n",
    "    # have to make sure the output is not blank\n",
    "    # hit second url for artist information\n",
    "    if len(response_data['items']) != 0:\n",
    "        print(f\"There are {len(response_data)} items in the dictionary\")\n",
    "        tracks = response_data[\"items\"]\n",
    "        for track in tracks:\n",
    "            track_data = {\n",
    "                \"track_id\": track[\"track\"][\"id\"],\n",
    "                \"track_name\": track[\"track\"][\"name\"],\n",
    "                \"album_name\": track[\"track\"][\"album\"][\"name\"],\n",
    "                \"album_id\": track[\"track\"][\"album\"][\"id\"],\n",
    "                \"release_date\": track[\"track\"][\"album\"][\"release_date\"],\n",
    "                \"artist_id\": track[\"track\"][\"artists\"][0][\"id\"],\n",
    "                \"artist_name\": track[\"track\"][\"artists\"][0][\"name\"],\n",
    "                \"song_duration_ms\": track[\"track\"][\"duration_ms\"],\n",
    "                \"explicit\": track[\"track\"][\"explicit\"],\n",
    "                \"popularity\": track[\"track\"][\"popularity\"],\n",
    "                \"played_at\": track[\"played_at\"]\n",
    "            }\n",
    "            artist_url = url2 + track_data[\"artist_id\"]\n",
    "            response = requests.get(artist_url, headers=headers)\n",
    "            response_data = response.json()\n",
    "            track_data[\"artist_genres\"] = response_data[\"artists\"][0][\"genres\"]\n",
    "\n",
    "            data.append(track_data)\n",
    "            print(track_data)\n",
    "\n",
    "        print(f\"The operation has been successfully run!!!\")\n",
    "        return response_data\n",
    "\n",
    "\n",
    "    else:\n",
    "        print(f\"No data was retrieved\")\n",
    "    \n",
    "        \n",
    "    \n",
    "recently_played_songs(\"2022-09-02T00:00:00+00:00\")"
   ]
  },
  {
   "cell_type": "code",
   "execution_count": null,
   "metadata": {},
   "outputs": [],
   "source": []
  }
 ],
 "metadata": {
  "kernelspec": {
   "display_name": "spotify_env",
   "language": "python",
   "name": "spotify_env"
  },
  "language_info": {
   "codemirror_mode": {
    "name": "ipython",
    "version": 3
   },
   "file_extension": ".py",
   "mimetype": "text/x-python",
   "name": "python",
   "nbconvert_exporter": "python",
   "pygments_lexer": "ipython3",
   "version": "3.10.6"
  },
  "orig_nbformat": 4,
  "vscode": {
   "interpreter": {
    "hash": "bc749e477d9e6294c0612ab093fa6ca4f9dcfc8dc4cf5dbf9620a04cfa1b32e9"
   }
  }
 },
 "nbformat": 4,
 "nbformat_minor": 2
}
