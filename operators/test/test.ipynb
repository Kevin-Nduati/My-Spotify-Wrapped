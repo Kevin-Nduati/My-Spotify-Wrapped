{
 "cells": [
  {
   "cell_type": "code",
   "execution_count": 1,
   "metadata": {},
   "outputs": [],
   "source": [
    "import requests\n",
    "from dotenv import load_dotenv\n",
    "load_dotenv()\n",
    "import os\n",
    "import json"
   ]
  },
  {
   "cell_type": "code",
   "execution_count": 4,
   "metadata": {},
   "outputs": [
    {
     "name": "stdout",
     "output_type": "stream",
     "text": [
      "End Date: 1679302800\n",
      "No data was retrieved\n"
     ]
    }
   ],
   "source": [
    "# from airflow.providers.http.operators.http import SimpleHttpOperator\n",
    "# from airflow.providers.postgres.hooks.postgres import PostgresHook\n",
    "# from airflow.models import Variable, XCom\n",
    "from datetime import datetime, timedelta\n",
    "import time\n",
    "import requests\n",
    "import json\n",
    "import os\n",
    "# from refresh import RefreshToken\n",
    "# from dotenv import load_dotenv\n",
    "# load_dotenv()\n",
    "\n",
    "\n",
    "\n",
    "def recently_played_songs(start_time):\n",
    "    start_time = datetime.fromisoformat(str(start_time))\n",
    "    date_obj = start_time + timedelta(hours=12)\n",
    "\n",
    "    # convert the datetime to unix timestamp\n",
    "    end_date = int(time.mktime(date_obj.timetuple()))\n",
    "    print(f\"End Date: {end_date}\")\n",
    "    url = f\"https://api.spotify.com/v1/me/player/recently-played?limit=50&before={end_date}\"\n",
    "    url2 = \"https://api.spotify.com/v1/artists?ids=\"\n",
    "    params = {}\n",
    "    headers = {\n",
    "        \"Accept\": \"application/json\",\n",
    "        \"Content-Type\": \"application/json\",\n",
    "        \"Authorization\": f\"Bearer {os.getenv('access_token')}\"\n",
    "    }\n",
    "    data = []\n",
    "    response = requests.get(url, params=params, headers=headers)\n",
    "    response_data = response.json()\n",
    "    \n",
    "    # have to make sure the output is not blank\n",
    "    # hit second url for artist information\n",
    "    if len(response_data['items']) != 0:\n",
    "        print(f\"There are {len(response_data)} items in the dictionary\")\n",
    "        tracks = response_data[\"items\"]\n",
    "        for track in tracks:\n",
    "            track_data = {\n",
    "                \"track_id\": track[\"track\"][\"id\"],\n",
    "                \"track_name\": track[\"track\"][\"name\"],\n",
    "                \"album_name\": track[\"track\"][\"album\"][\"name\"],\n",
    "                \"album_id\": track[\"track\"][\"album\"][\"id\"],\n",
    "                \"release_date\": track[\"track\"][\"album\"][\"release_date\"],\n",
    "                \"artist_id\": track[\"track\"][\"artists\"][0][\"id\"],\n",
    "                \"artist_name\": track[\"track\"][\"artists\"][0][\"name\"],\n",
    "                \"song_duration_ms\": track[\"track\"][\"duration_ms\"],\n",
    "                \"explicit\": track[\"track\"][\"explicit\"],\n",
    "                \"popularity\": track[\"track\"][\"popularity\"],\n",
    "                \"played_at\": track[\"played_at\"]\n",
    "            }\n",
    "            artist_url = url2 + track_data[\"artist_id\"]\n",
    "            response = requests.get(artist_url, headers=headers)\n",
    "            response_data = response.json()\n",
    "            track_data[\"artist_genres\"] = response_data[\"artists\"][0][\"genres\"]\n",
    "\n",
    "            data.append(track_data)\n",
    "            print(track_data)\n",
    "\n",
    "        print(f\"The operation has been successfully run!!!\")\n",
    "        return response_data\n",
    "\n",
    "\n",
    "    else:\n",
    "        print(f\"No data was retrieved\")\n",
    "    \n",
    "        \n",
    "    \n",
    "recently_played_songs(\"2023-03-20T00:00:00+00:00\")"
   ]
  },
  {
   "cell_type": "code",
   "execution_count": 15,
   "metadata": {},
   "outputs": [],
   "source": [
    "start_time = \"2023-03-22T00:00:00+00:00\""
   ]
  },
  {
   "cell_type": "code",
   "execution_count": 16,
   "metadata": {},
   "outputs": [
    {
     "name": "stdout",
     "output_type": "stream",
     "text": [
      "End Date: 1679475600\n"
     ]
    }
   ],
   "source": [
    "start_time = datetime.fromisoformat(str(start_time))\n",
    "date_obj = start_time + timedelta(hours=12)\n",
    "\n",
    "# convert the datetime to unix timestamp\n",
    "end_date = int(time.mktime(date_obj.timetuple()))\n",
    "print(f\"End Date: {end_date}\")"
   ]
  },
  {
   "cell_type": "code",
   "execution_count": null,
   "metadata": {},
   "outputs": [],
   "source": []
  }
 ],
 "metadata": {
  "kernelspec": {
   "display_name": "spotify_env",
   "language": "python",
   "name": "spotify_env"
  },
  "language_info": {
   "codemirror_mode": {
    "name": "ipython",
    "version": 3
   },
   "file_extension": ".py",
   "mimetype": "text/x-python",
   "name": "python",
   "nbconvert_exporter": "python",
   "pygments_lexer": "ipython3",
   "version": "3.10.6"
  },
  "orig_nbformat": 4,
  "vscode": {
   "interpreter": {
    "hash": "bc749e477d9e6294c0612ab093fa6ca4f9dcfc8dc4cf5dbf9620a04cfa1b32e9"
   }
  }
 },
 "nbformat": 4,
 "nbformat_minor": 2
}
